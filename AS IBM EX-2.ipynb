{
 "cells": [
  {
   "cell_type": "code",
   "execution_count": null,
   "id": "59affe8e-c171-4717-b4b6-3a7f14c7454b",
   "metadata": {},
   "outputs": [],
   "source": [
    "# DATE- 19/09/2024 \n",
    "# DAY - THURSDAY "
   ]
  },
  {
   "cell_type": "code",
   "execution_count": 3,
   "id": "e84a0448-aafb-45c3-a8bc-15bc03756933",
   "metadata": {},
   "outputs": [
    {
     "name": "stdout",
     "output_type": "stream",
     "text": [
      "[5 7 6 4 4 3 7 3 2 5]\n"
     ]
    }
   ],
   "source": [
    "#IMPLEMENTATION OF BINOMIAL IN PYTHON :\n",
    "\n",
    "import numpy as np \n",
    "x = np.random.binomial(n=10,p=0.5,size=10)\n",
    "print(x)"
   ]
  },
  {
   "cell_type": "code",
   "execution_count": null,
   "id": "ed01d65f-a6e4-4a37-b2f1-7a8308b46150",
   "metadata": {},
   "outputs": [],
   "source": [
    "                                                   # PANDAS "
   ]
  },
  {
   "cell_type": "code",
   "execution_count": 6,
   "id": "9ba9aabd-94ff-45d9-991b-c3045cde16f0",
   "metadata": {},
   "outputs": [
    {
     "name": "stdout",
     "output_type": "stream",
     "text": [
      "0    Java\n",
      "1       C\n",
      "2     C++\n",
      "3     NaN\n",
      "dtype: object\n"
     ]
    }
   ],
   "source": [
    "\n",
    "import pandas as pd\n",
    "import numpy as np\n",
    "a = pd.Series(['Java', 'C', 'C++', np.nan])\n",
    "a.map({'Java': 'Core'})\n",
    "print(a)"
   ]
  },
  {
   "cell_type": "code",
   "execution_count": 7,
   "id": "b724d33e-16b5-4714-acee-b17008092da4",
   "metadata": {},
   "outputs": [
    {
     "data": {
      "text/html": [
       "<div>\n",
       "<style scoped>\n",
       "    .dataframe tbody tr th:only-of-type {\n",
       "        vertical-align: middle;\n",
       "    }\n",
       "\n",
       "    .dataframe tbody tr th {\n",
       "        vertical-align: top;\n",
       "    }\n",
       "\n",
       "    .dataframe thead th {\n",
       "        text-align: right;\n",
       "    }\n",
       "</style>\n",
       "<table border=\"1\" class=\"dataframe\">\n",
       "  <thead>\n",
       "    <tr style=\"text-align: right;\">\n",
       "      <th></th>\n",
       "      <th>vals</th>\n",
       "    </tr>\n",
       "  </thead>\n",
       "  <tbody>\n",
       "    <tr>\n",
       "      <th>0</th>\n",
       "      <td>a</td>\n",
       "    </tr>\n",
       "    <tr>\n",
       "      <th>1</th>\n",
       "      <td>b</td>\n",
       "    </tr>\n",
       "    <tr>\n",
       "      <th>2</th>\n",
       "      <td>c</td>\n",
       "    </tr>\n",
       "  </tbody>\n",
       "</table>\n",
       "</div>"
      ],
      "text/plain": [
       "  vals\n",
       "0    a\n",
       "1    b\n",
       "2    c"
      ]
     },
     "execution_count": 7,
     "metadata": {},
     "output_type": "execute_result"
    }
   ],
   "source": [
    "s = pd.Series([\"a\",\"b\", \"c\"], name = \"vals\")\n",
    "s.to_frame()\n"
   ]
  },
  {
   "cell_type": "code",
   "execution_count": 8,
   "id": "47c1a2f6-c742-4772-a498-096221763a9d",
   "metadata": {},
   "outputs": [
    {
     "name": "stdout",
     "output_type": "stream",
     "text": [
      "       Emp   ID\n",
      "0   Parker  102\n",
      "1     John  107\n",
      "2    Smith  109\n",
      "3  William  114\n"
     ]
    }
   ],
   "source": [
    "import pandas as pd\n",
    "emp = ['Parker', 'John', 'Smith', 'William']\n",
    "id = [102, 107, 109, 114]\n",
    "emp_series = pd.Series(emp)\n",
    "id_series = pd.Series(id)\n",
    "frame = {'Emp': emp_series, 'ID': id_series}\n",
    "result = pd.DataFrame(frame)\n",
    "print(result)"
   ]
  },
  {
   "cell_type": "code",
   "execution_count": 9,
   "id": "46de87b4-2eb2-4070-bb81-3ff72b726800",
   "metadata": {},
   "outputs": [
    {
     "name": "stdout",
     "output_type": "stream",
     "text": [
      "    ID Department\n",
      "0  101       B.Sc\n",
      "1  102     B.Tech\n",
      "2  103     M.tech\n"
     ]
    }
   ],
   "source": [
    "import pandas as pd\n",
    "info = {'ID' :[101,102,103], 'Department':['B.Sc', 'B.Tech', 'M.tech']}\n",
    "df = pd.DataFrame(info)\n",
    "print(df)"
   ]
  },
  {
   "cell_type": "code",
   "execution_count": 10,
   "id": "72bf9bdb-280f-4b94-92fa-e9fd9ad3a13c",
   "metadata": {},
   "outputs": [
    {
     "name": "stdout",
     "output_type": "stream",
     "text": [
      "   one  two\n",
      "a  1.0    1\n",
      "b  2.0    2\n",
      "c  3.0    3\n",
      "d  4.0    4\n",
      "e  5.0    5\n",
      "f  6.0    6\n",
      "g  NaN    7\n",
      "h  NaN    8\n"
     ]
    }
   ],
   "source": [
    "import pandas as pd\n",
    "info = {'one' :pd.Series([1,2,3,4,5,6], index=['a', 'b', 'c', 'd', 'e', 'f']), 'two' : pd.Series([1,2,3,4,5,6,7,8], index=['a', 'b', 'c', 'd', 'e', 'f', 'g','h'])}\n",
    "d1 = pd.DataFrame(info)\n",
    "print(d1)"
   ]
  },
  {
   "cell_type": "code",
   "execution_count": 11,
   "id": "471d6b12-d341-4381-964b-6cb1e4d36325",
   "metadata": {},
   "outputs": [
    {
     "name": "stdout",
     "output_type": "stream",
     "text": [
      "     Name  Age         City\n",
      "0   Sigma   20         Puri\n",
      "1   Mehek   20  Chattisgarh\n",
      "2  Yashvi   20       Gujrat\n"
     ]
    }
   ],
   "source": [
    "import pandas as pd\n",
    "info = {\n",
    "    \"Name\": pd.Series(['Sigma', 'Mehek', 'Yashvi']),\n",
    "    \"Age\": pd.Series([20, 20, 20]),\n",
    "    \"City\": pd.Series(['Puri', 'Chattisgarh', 'Gujrat'])\n",
    "}\n",
    "d2 = pd.DataFrame(info)\n",
    "print(d2)\n"
   ]
  },
  {
   "cell_type": "code",
   "execution_count": 13,
   "id": "98089c5e-28b5-4712-adba-9f3872142c84",
   "metadata": {},
   "outputs": [
    {
     "name": "stdout",
     "output_type": "stream",
     "text": [
      "     Name  Age      City\n",
      "0  Reecha   20    Ranchi\n",
      "1  Deepti   20  Rourkela\n",
      "2   Sruti   20     Patna\n",
      "Adding a new colum to the data-farme\n",
      "\n",
      "     Name  Age      City  Gender\n",
      "0  Reecha   20    Ranchi    Male\n",
      "1  Deepti   20  Rourkela    Male\n",
      "2   Sruti   20     Patna  Female\n"
     ]
    }
   ],
   "source": [
    "import pandas as pd\n",
    "info = {\n",
    "    \"Name\": pd.Series(['Reecha', 'Deepti', 'Sruti']),\n",
    "    \"Age\": pd.Series([20, 20, 20]),\n",
    "    \"City\": pd.Series(['Ranchi', 'Rourkela', 'Patna'])\n",
    "}\n",
    "d2 = pd.DataFrame(info)\n",
    "print(d2)\n",
    "print(\"Adding a new colum to the data-farme\")\n",
    "print()\n",
    "d2[\"Gender\"] = pd.Series(['Male', 'Male','Female'])\n",
    "print(d2)"
   ]
  },
  {
   "cell_type": "code",
   "execution_count": 14,
   "id": "5d817561-9e5c-4711-8334-985989c51703",
   "metadata": {},
   "outputs": [
    {
     "name": "stdout",
     "output_type": "stream",
     "text": [
      "       Name  Age      City\n",
      "0   Pabitra   20    Ranchi\n",
      "1  Nirlipta   20  Rourkela\n",
      "2     Sirti   20     Patna\n",
      "\n",
      "Adding a new colum to the data-farme\n",
      "       Name  Age      City  Gender\n",
      "0   Pabitra   20    Ranchi    Male\n",
      "1  Nirlipta   20  Rourkela    Male\n",
      "2     Sirti   20     Patna  Female\n",
      "\n",
      "Deleting a column\n",
      "       Name  Age      City\n",
      "0   Pabitra   20    Ranchi\n",
      "1  Nirlipta   20  Rourkela\n",
      "2     Sirti   20     Patna\n"
     ]
    }
   ],
   "source": [
    "import pandas as pd\n",
    "info = {\n",
    "    \"Name\": pd.Series(['Pabitra', 'Nirlipta', 'Sirti']),\n",
    "    \"Age\": pd.Series([20, 20, 20]),\n",
    "    \"City\": pd.Series(['Ranchi', 'Rourkela', 'Patna'])\n",
    "}\n",
    "d2 = pd.DataFrame(info)\n",
    "print(d2)\n",
    "\n",
    "print()\n",
    "print(\"Adding a new colum to the data-farme\")\n",
    "d2[\"Gender\"] = pd.Series(['Male', 'Male','Female'])\n",
    "print(d2)\n",
    "\n",
    "print()\n",
    "print(\"Deleting a column\")\n",
    "del d2['Gender']\n",
    "print(d2)"
   ]
  },
  {
   "cell_type": "code",
   "execution_count": 15,
   "id": "775bdf80-b835-4b2d-96f3-0b4a39fef072",
   "metadata": {},
   "outputs": [
    {
     "name": "stdout",
     "output_type": "stream",
     "text": [
      "   one  two\n",
      "c  3.0    3\n",
      "d  4.0    4\n",
      "e  5.0    5\n"
     ]
    }
   ],
   "source": [
    "import pandas as pd\n",
    "info = {'one': pd.Series([1,2,3,4,5], index=['a','b','c','d','e']), 'two': pd.Series([1,2,3,4,5,6], index=['a','b','c','d','e','f'])}\n",
    "df = pd.DataFrame(info)\n",
    "print(df.iloc[2:5])\n"
   ]
  },
  {
   "cell_type": "code",
   "execution_count": 16,
   "id": "bad164de-7c73-418c-b9ec-c1276bac2d3c",
   "metadata": {},
   "outputs": [
    {
     "name": "stdout",
     "output_type": "stream",
     "text": [
      "    x   y\n",
      "0   7   8\n",
      "1   9  10\n",
      "2  11  12\n",
      "3  13  14\n"
     ]
    }
   ],
   "source": [
    "import pandas as pd\n",
    "\n",
    "# Creating the first DataFrame\n",
    "d = pd.DataFrame([[7, 8], [9, 10]], columns=['x', 'y'])\n",
    "\n",
    "# Creating the second DataFrame\n",
    "d2 = pd.DataFrame([[11, 12], [13, 14]], columns=['x', 'y'])\n",
    "\n",
    "# Concatenating the DataFrames\n",
    "d = pd.concat([d, d2], ignore_index=True)\n",
    "\n",
    "# Displaying the concatenated DataFrame\n",
    "print(d)"
   ]
  },
  {
   "cell_type": "code",
   "execution_count": null,
   "id": "678c801a-3991-46f3-8427-f25088b64308",
   "metadata": {},
   "outputs": [],
   "source": []
  }
 ],
 "metadata": {
  "kernelspec": {
   "display_name": "Python 3 (ipykernel)",
   "language": "python",
   "name": "python3"
  },
  "language_info": {
   "codemirror_mode": {
    "name": "ipython",
    "version": 3
   },
   "file_extension": ".py",
   "mimetype": "text/x-python",
   "name": "python",
   "nbconvert_exporter": "python",
   "pygments_lexer": "ipython3",
   "version": "3.11.5"
  },
  "widgets": {
   "application/vnd.jupyter.widget-state+json": {
    "state": {},
    "version_major": 2,
    "version_minor": 0
   }
  }
 },
 "nbformat": 4,
 "nbformat_minor": 5
}
