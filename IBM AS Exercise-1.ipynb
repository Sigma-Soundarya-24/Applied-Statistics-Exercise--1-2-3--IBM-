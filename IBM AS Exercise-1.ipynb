{
 "cells": [
  {
   "cell_type": "code",
   "execution_count": null,
   "id": "7e3ce566-ae96-47f8-9141-6c8ff6713581",
   "metadata": {},
   "outputs": [],
   "source": [
    "                                        #APPLIED STATISTICS EXERCISE-1  #18/09/2024  "
   ]
  },
  {
   "cell_type": "code",
   "execution_count": 10,
   "id": "08a790b1-d40a-4605-aa52-87aa53148a71",
   "metadata": {},
   "outputs": [
    {
     "name": "stdout",
     "output_type": "stream",
     "text": [
      "<class 'numpy.ndarray'>\n",
      "(3,)\n",
      "<class 'numpy.ndarray'>\n",
      "[3 4 5]\n",
      "1 2 3\n"
     ]
    }
   ],
   "source": [
    "import numpy as np\n",
    "a = np.array([1,2,3])\n",
    "b = np.array([3,4,5])\n",
    "print(type(a))\n",
    "print(a.shape)\n",
    "print(type(b))\n",
    "print(b)\n",
    "print(a[0],a[1],a[2])\n"
   ]
  },
  {
   "cell_type": "code",
   "execution_count": 11,
   "id": "0d375eaf-e006-4d20-8a8d-68eef00e74fa",
   "metadata": {},
   "outputs": [
    {
     "name": "stdout",
     "output_type": "stream",
     "text": [
      "[5 2 3]\n",
      "(2, 3)\n",
      "1 2 4\n"
     ]
    }
   ],
   "source": [
    "a[0]=5\n",
    "print(a)\n",
    "b = np.array([[1,2,3],[4,5,6]])\n",
    "print(b.shape)\n",
    "#Representation of the 2-D array\n",
    "print(b[0,0],b[0,1],b[1,0])"
   ]
  },
  {
   "cell_type": "code",
   "execution_count": 23,
   "id": "a53b556e-85ae-4619-baea-1ceb6084fe60",
   "metadata": {},
   "outputs": [
    {
     "name": "stdout",
     "output_type": "stream",
     "text": [
      "[[0. 0.]\n",
      " [0. 0.]]\n",
      "[[1. 1. 1.]\n",
      " [1. 1. 1.]]\n",
      "[[7 7 7 7 7]\n",
      " [7 7 7 7 7]\n",
      " [7 7 7 7 7]]\n",
      "[[1. 0.]\n",
      " [0. 1.]]\n",
      "[[0.66609782 0.94228418]\n",
      " [0.0319829  0.80148319]]\n"
     ]
    }
   ],
   "source": [
    "#Numpy also provides many functions to cresate an arrays:\n",
    "\n",
    "import numpy as np\n",
    "a = np.zeros((2,2)) #Create an array of all zeroes.(replacing the missing values)\n",
    "print(a)\n",
    "\n",
    "b = np.ones((2,3))  #Create an array of all ones\n",
    "print(b)\n",
    "\n",
    "c = np.full((3,5),7) #Create a constant array\n",
    "print(c)\n",
    "\n",
    "d = np.eye(2)      #Creating a 2x2 identity matrix\n",
    "print(d)\n",
    "\n",
    "e = np.random.random((2,2)) #Creating an array filled with random values (Pseudorandom number generator)\n",
    "print(e)\n",
    "\n"
   ]
  },
  {
   "cell_type": "code",
   "execution_count": 49,
   "id": "51229e9e-6fec-47d8-8e3f-badf74f5cffc",
   "metadata": {},
   "outputs": [
    {
     "name": "stdout",
     "output_type": "stream",
     "text": [
      "[0.         0.22222222 0.44444444 0.66666667 0.88888889 1.11111111\n",
      " 1.33333333 1.55555556 1.77777778 2.        ]\n"
     ]
    }
   ],
   "source": [
    "#linspace \n",
    "\n",
    "# numpy.linspace(start, stop, num=50, endpoint=True , retstep=False, dtype=None, axis=0)\n",
    "f = np.linspace(0, 2, 10)\n",
    "print(f)"
   ]
  },
  {
   "cell_type": "code",
   "execution_count": 28,
   "id": "18140442-11bc-474d-a675-7cdda963f92f",
   "metadata": {},
   "outputs": [
    {
     "name": "stdout",
     "output_type": "stream",
     "text": [
      "2\n",
      "2\n",
      "[[ 1  2  3  4]\n",
      " [ 5  6  7  8]\n",
      " [ 9 10 11 12]]\n",
      "[[2 3]\n",
      " [6 7]]\n",
      "[[2]\n",
      " [6]]\n",
      "[[ 9 10]]\n",
      "[[2 3 4]\n",
      " [6 7 8]]\n"
     ]
    }
   ],
   "source": [
    "#Array sclicing \n",
    "import numpy as np\n",
    "#[[1 2 3 4 ]\n",
    "#[5 6 7 8 ]\n",
    "#[9 10 11 12]]\n",
    "a=np.array(([1,2,3,4],[5,6,7,8],[9,10,11,12]))\n",
    "b=a[:2, 1:3]\n",
    "print(a[0,1])\n",
    "b=a[:2,1:3]\n",
    "print(a[0,1])\n",
    "print(a[:,:])\n",
    "print(a[:2,1:3])\n",
    "print(a[0:2,1:2])\n",
    "print(a[2:3,0:2])\n",
    "print(a[:2,1:])"
   ]
  },
  {
   "cell_type": "code",
   "execution_count": 29,
   "id": "1bf7eed2-2350-437c-b590-c0df67a13704",
   "metadata": {},
   "outputs": [
    {
     "name": "stdout",
     "output_type": "stream",
     "text": [
      "[1 4 5]\n",
      "[1 4 5]\n",
      "[2 2]\n",
      "[2 2]\n"
     ]
    }
   ],
   "source": [
    "a=np.array([[1,2],[3,4],[5,6]])\n",
    "print(a[[0,1,2],[0,1,0]])\n",
    "print(np.array([a[0,0], a[1,1], a[2,0]]))\n",
    "print(a[[0,0],[1,1]])\n",
    "print(np.array([a[0,1], a[0,1]]))"
   ]
  },
  {
   "cell_type": "code",
   "execution_count": 30,
   "id": "a9d910e4-126c-49a3-844d-828c56fb6e1b",
   "metadata": {},
   "outputs": [
    {
     "name": "stdout",
     "output_type": "stream",
     "text": [
      "[[ 1  2  3]\n",
      " [ 4  5  6]\n",
      " [ 7  8  9]\n",
      " [10 11 12]]\n",
      "[ 1  6  7 11]\n",
      "[[ 1  2  3]\n",
      " [ 4  5  6]\n",
      " [ 7  8  9]\n",
      " [10 11 12]]\n"
     ]
    }
   ],
   "source": [
    "a=np.array([[1,2,3],[4,5,6],[7,8,9],[10,11,12]])\n",
    "print(a)\n",
    "b= np.array([0,2,0,1])\n",
    "print(a[np.arange(4),b])\n",
    "a[np.arange(4),b]\n",
    "print(a)"
   ]
  },
  {
   "cell_type": "code",
   "execution_count": 33,
   "id": "ae119b67-9952-4636-8e94-04b671a17ba0",
   "metadata": {},
   "outputs": [
    {
     "name": "stdout",
     "output_type": "stream",
     "text": [
      "[[False False]\n",
      " [ True  True]\n",
      " [ True  True]]\n",
      "[3 4 5 6]\n",
      "[3 4 5 6]\n"
     ]
    }
   ],
   "source": [
    "#Boolean array indexing :\n",
    "import numpy as np\n",
    "a = np.array([[1,2],[3,4],[5,6]])\n",
    "bool_idx = (a>2)\n",
    "print(bool_idx)\n",
    "print(a[bool_idx])\n",
    "print(a[a>2])"
   ]
  },
  {
   "cell_type": "code",
   "execution_count": 37,
   "id": "2a710621-3b4d-4e83-81ad-c918004b7d3b",
   "metadata": {},
   "outputs": [
    {
     "name": "stdout",
     "output_type": "stream",
     "text": [
      "int32\n",
      "float64\n",
      "int64\n"
     ]
    }
   ],
   "source": [
    "import numpy as np\n",
    "a = np.array([1,2])\n",
    "print(a.dtype)\n",
    "x = np.array([1.0,2.0])\n",
    "print(x.dtype)\n",
    "y = np.array([1,2] , dtype = np.int64)\n",
    "print(y.dtype)"
   ]
  },
  {
   "cell_type": "code",
   "execution_count": 40,
   "id": "25903ec9-ee37-45ef-9ca1-09647490e8ab",
   "metadata": {},
   "outputs": [
    {
     "name": "stdout",
     "output_type": "stream",
     "text": [
      "[[ 6  8]\n",
      " [10 12]\n",
      " [14 11]]\n",
      "[[ 6  8]\n",
      " [10 12]\n",
      " [14 11]]\n",
      "[[-4 -4]\n",
      " [-4 -4]\n",
      " [-4  1]]\n",
      "[[-4 -4]\n",
      " [-4 -4]\n",
      " [-4  1]]\n",
      "[[0.2        0.33333333]\n",
      " [0.42857143 0.5       ]\n",
      " [0.55555556 1.2       ]]\n",
      "[[0.2        0.33333333]\n",
      " [0.42857143 0.5       ]\n",
      " [0.55555556 1.2       ]]\n",
      "[[1.         1.41421356]\n",
      " [1.73205081 2.        ]\n",
      " [2.23606798 2.44948974]]\n"
     ]
    }
   ],
   "source": [
    "import numpy as np\n",
    "x = np.array([[1,2],[3,4],[5,6]])\n",
    "y = np.array([[5,6],[7,8],[9,5]])\n",
    "print(x+y)\n",
    "print(np.add(x,y))\n",
    "print(x-y)\n",
    "print(np.subtract(x,y))\n",
    "print(x/y)\n",
    "print(np.divide(x,y))\n",
    "print(np.sqrt(x))\n"
   ]
  },
  {
   "cell_type": "code",
   "execution_count": 42,
   "id": "5077c980-746e-4b07-9919-748b7b396bfc",
   "metadata": {},
   "outputs": [
    {
     "name": "stdout",
     "output_type": "stream",
     "text": [
      "[[1 2]\n",
      " [3 4]]\n",
      "[[1 3]\n",
      " [2 4]]\n",
      "[1 2 3]\n",
      "[1 2 3]\n"
     ]
    }
   ],
   "source": [
    "#Transpose \n",
    "import numpy as np\n",
    "x = np.array([[1,2],[3,4]])\n",
    "print(x)\n",
    "print(x.T)\n",
    "v = np.array([1,2,3])\n",
    "print(v)\n",
    "print(v.T)"
   ]
  },
  {
   "cell_type": "code",
   "execution_count": 48,
   "id": "e2df641e-9ee5-44d7-b691-6fa438d6ff5a",
   "metadata": {},
   "outputs": [
    {
     "name": "stdout",
     "output_type": "stream",
     "text": [
      "The Original Array is:\n",
      " [ 0  1  2  3  4  5  6  7  8  9 10 11 12 13 14 15]\n",
      "The Reshaped array is:\n",
      " [[ 0  1  2  3  4  5  6  7]\n",
      " [ 8  9 10 11 12 13 14 15]]\n"
     ]
    }
   ],
   "source": [
    "#Reshape of array :\n",
    "import numpy as np\n",
    "arr = np.arange(16)\n",
    "print(\"The Original Array is:\\n\",arr)\n",
    "arr1 = np.arange(16).reshape(2,8)\n",
    "print(\"The Reshaped array is:\\n\",arr1)"
   ]
  },
  {
   "cell_type": "code",
   "execution_count": 52,
   "id": "bb25d0f3-e12d-4ebb-b88d-5bc4f7106b7d",
   "metadata": {},
   "outputs": [
    {
     "name": "stdout",
     "output_type": "stream",
     "text": [
      "The Eigenvalues is : [2.61803399 0.38196601]\n",
      "The Eigenvectors is: [[ 0.85065081 -0.52573111]\n",
      " [ 0.52573111  0.85065081]]\n"
     ]
    }
   ],
   "source": [
    "# eigen values and eigen vectors using numpy in python:\n",
    "\n",
    "import numpy as np\n",
    "x = np.array([[2, 1], [1, 1]])\n",
    "eigenvalues, eigenvectors = np.linalg.eig(x)\n",
    "print(\"The Eigenvalues is :\", eigenvalues)\n",
    "print(\"The Eigenvectors is:\", eigenvectors)"
   ]
  },
  {
   "cell_type": "code",
   "execution_count": null,
   "id": "b1ea99c3-5abe-4a9d-8d01-4ee99997fa1a",
   "metadata": {},
   "outputs": [],
   "source": []
  }
 ],
 "metadata": {
  "kernelspec": {
   "display_name": "Python 3 (ipykernel)",
   "language": "python",
   "name": "python3"
  },
  "language_info": {
   "codemirror_mode": {
    "name": "ipython",
    "version": 3
   },
   "file_extension": ".py",
   "mimetype": "text/x-python",
   "name": "python",
   "nbconvert_exporter": "python",
   "pygments_lexer": "ipython3",
   "version": "3.11.5"
  },
  "widgets": {
   "application/vnd.jupyter.widget-state+json": {
    "state": {},
    "version_major": 2,
    "version_minor": 0
   }
  }
 },
 "nbformat": 4,
 "nbformat_minor": 5
}
